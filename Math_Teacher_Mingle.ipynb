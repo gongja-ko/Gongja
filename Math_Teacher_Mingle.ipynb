echo "# Gongja" >> README.md
git init
git add README.md
git commit -m "first commit"
git branch -M main
git remote add origin https://github.com/gongja-ko/Gongja.git
git push -u origin main
